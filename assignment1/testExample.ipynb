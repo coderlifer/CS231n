{
 "cells": [
  {
   "cell_type": "code",
   "execution_count": 1,
   "metadata": {
    "collapsed": true
   },
   "outputs": [],
   "source": [
    "import numpy as np"
   ]
  },
  {
   "cell_type": "code",
   "execution_count": 2,
   "metadata": {
    "collapsed": false
   },
   "outputs": [
    {
     "name": "stdout",
     "output_type": "stream",
     "text": [
      "[[0 1 2 3]\n",
      " [4 5 6 7]]\n"
     ]
    }
   ],
   "source": [
    "a = np.arange(8).reshape((2,4))\n",
    "print(a)"
   ]
  },
  {
   "cell_type": "code",
   "execution_count": 8,
   "metadata": {
    "collapsed": false
   },
   "outputs": [
    {
     "name": "stdout",
     "output_type": "stream",
     "text": [
      "[[3]\n",
      " [7]]\n",
      "7\n",
      "[[2 2 2 3]\n",
      " [4 5 6 7]]\n"
     ]
    }
   ],
   "source": [
    "b = np.max(a, axis=1).reshape((2, -1))\n",
    "print(b)\n",
    "\n",
    "print(np.max(a))\n",
    "\n",
    "print(np.maximum(a, 2))"
   ]
  },
  {
   "cell_type": "code",
   "execution_count": 9,
   "metadata": {
    "collapsed": false
   },
   "outputs": [
    {
     "name": "stdout",
     "output_type": "stream",
     "text": [
      "[[-3 -2 -1  0]\n",
      " [-3 -2 -1  0]]\n"
     ]
    }
   ],
   "source": [
    "c = a - b\n",
    "print(c)"
   ]
  },
  {
   "cell_type": "code",
   "execution_count": 16,
   "metadata": {
    "collapsed": false
   },
   "outputs": [
    {
     "name": "stdout",
     "output_type": "stream",
     "text": [
      "[[2]\n",
      " [5]]\n"
     ]
    }
   ],
   "source": [
    "d = [2, 1]\n",
    "print(a[range(2), d].reshape((2,-1)))"
   ]
  },
  {
   "cell_type": "code",
   "execution_count": 11,
   "metadata": {
    "collapsed": false
   },
   "outputs": [
    {
     "name": "stdout",
     "output_type": "stream",
     "text": [
      "[ 14 126]\n"
     ]
    }
   ],
   "source": [
    "e = np.sum(d, axis=1)\n",
    "print(e)"
   ]
  },
  {
   "cell_type": "code",
   "execution_count": 12,
   "metadata": {
    "collapsed": false
   },
   "outputs": [
    {
     "name": "stdout",
     "output_type": "stream",
     "text": [
      "[[ 1]\n",
      " [36]]\n"
     ]
    }
   ],
   "source": [
    "y = [1, 2]\n",
    "aa = d[range(2), y].reshape((2,-1))\n",
    "print(aa)"
   ]
  },
  {
   "cell_type": "code",
   "execution_count": 13,
   "metadata": {
    "collapsed": false
   },
   "outputs": [
    {
     "name": "stdout",
     "output_type": "stream",
     "text": [
      "[[0 1 4 9]\n",
      " [0 0 1 1]]\n"
     ]
    }
   ],
   "source": [
    "print(d/aa)"
   ]
  },
  {
   "cell_type": "code",
   "execution_count": 21,
   "metadata": {
    "collapsed": false
   },
   "outputs": [
    {
     "name": "stdout",
     "output_type": "stream",
     "text": [
      "[  1.00000000e-04   1.00000000e-03   1.00000000e-02   1.00000000e-01\n",
      "   1.00000000e+00   1.00000000e+01   1.00000000e+02]\n",
      "[  1.00000000e-03   1.00000000e-02   1.00000000e-01   1.00000000e+00\n",
      "   1.00000000e+01   1.00000000e+02]\n"
     ]
    }
   ],
   "source": [
    "print(np.logspace(-4, 2, 7))\n",
    "print(np.logspace(-3, 2, 6))"
   ]
  },
  {
   "cell_type": "markdown",
   "metadata": {
    "collapsed": true
   },
   "source": [
    "ffs"
   ]
  },
  {
   "cell_type": "code",
   "execution_count": null,
   "metadata": {
    "collapsed": true
   },
   "outputs": [],
   "source": []
  }
 ],
 "metadata": {
  "anaconda-cloud": {},
  "kernelspec": {
   "display_name": "Python [conda root]",
   "language": "python",
   "name": "conda-root-py"
  },
  "language_info": {
   "codemirror_mode": {
    "name": "ipython",
    "version": 2
   },
   "file_extension": ".py",
   "mimetype": "text/x-python",
   "name": "python",
   "nbconvert_exporter": "python",
   "pygments_lexer": "ipython2",
   "version": "2.7.12"
  }
 },
 "nbformat": 4,
 "nbformat_minor": 1
}
